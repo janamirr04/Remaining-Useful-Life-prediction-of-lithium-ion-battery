{
  "nbformat": 4,
  "nbformat_minor": 0,
  "metadata": {
    "colab": {
      "provenance": []
    },
    "kernelspec": {
      "name": "python3",
      "display_name": "Python 3"
    },
    "language_info": {
      "name": "python"
    }
  },
  "cells": [
    {
      "cell_type": "code",
      "metadata": {
        "colab": {
          "base_uri": "https://localhost:8080/",
          "height": 418
        },
        "id": "KtTi1pZS8SdL",
        "outputId": "eeba54de-089a-4db6-d41e-d5c09e69d538"
      },
      "source": [
        "import numpy as np\n",
        "import pandas as pd\n",
        "from sklearn.model_selection import train_test_split\n",
        "import matplotlib.pyplot as plt\n",
        "import seaborn as sns\n",
        "import pickle\n",
        "data = pd.read_csv('/content/dataset1.csv')\n",
        "data.head()\n",
        "data.shape\n",
        "X = data.iloc[:,:-1]\n",
        "X.head()\n",
        "y = data.iloc[:,-1]\n",
        "y.head()\n",
        "data['Cycle'].value_counts()\n",
        "X_train,X_test,y_train,y_test = train_test_split(X,y,test_size=0.2,random_state=1)\n",
        "sns.countplot(x='Cycle',data=data)\n",
        "plt.show()\n",
        "X_train.shape\n",
        "X_train.head()\n",
        "y_test.shape\n",
        "y_test.head()\n",
        "\n",
        "\n",
        "from sklearn.neighbors import KNeighborsClassifier\n",
        "\n",
        "model = KNeighborsClassifier(n_neighbors=10)\n",
        "model.fit(X_train,y_train)\n",
        "filename = 'model1.sav'\n",
        "pickle.dump(model, open(filename, 'wb'))\n",
        "y_pred = model.predict(X_test)\n",
        "from sklearn import metrics\n",
        "acc=(metrics.accuracy_score(y_pred,y_test))\n",
        "print(\"Accuracy is:\",acc)\n",
        "print(\"Confusion Matrix is: \",metrics.confusion_matrix(y_pred,y_test))"
      ],
      "execution_count": 1,
      "outputs": [
        {
          "output_type": "display_data",
          "data": {
            "text/plain": [
              "<Figure size 432x288 with 1 Axes>"
            ],
            "image/png": "[encoded data removed]"
          },
          "metadata": {
            "needs_background": "light"
          }
        },
        {
          "output_type": "stream",
          "name": "stdout",
          "text": [
            "Accuracy is: 0.5375\n",
            "Confusion Matrix is:  [[3 0 0 ... 0 0 0]\n",
            " [0 3 0 ... 0 0 0]\n",
            " [0 0 1 ... 0 0 0]\n",
            " ...\n",
            " [0 0 0 ... 0 0 0]\n",
            " [0 0 0 ... 0 0 0]\n",
            " [0 0 0 ... 0 4 2]]\n"
          ]
        }
      ]
    },
    {
      "cell_type": "code",
      "metadata": {
        "colab": {
          "base_uri": "https://localhost:8080/"
        },
        "id": "4MmwwSPyGeRB",
        "outputId": "89aa1fd8-2736-473b-c2b9-a9ead64a9c56"
      },
      "source": [
        "import pickle\n",
        "import urllib.request\n",
        "import json\n",
        "from time import sleep\n",
        "conn = urllib.request.urlopen(\"https://api.thingspeak.com/channels/596974/feeds.json?results=1\")\n",
        "response = conn.read()\n",
        "print (\"http status code=%s\" % (conn.getcode()))\n",
        "data=json.loads(response)\n",
        "x=int(data['feeds'][0]['entry_id'])\n",
        "y=x\n",
        "conn.close()\n",
        "while x==y:\n",
        "  conn = urllib.request.urlopen(\"https://api.thingspeak.com/channels/596974/feeds.json?results=1\")\n",
        "  response = conn.read()\n",
        "  #print (\"http status code=%s\" % (conn.getcode()))\n",
        "  data=json.loads(response)\n",
        "  y=int(data['feeds'][0]['entry_id'])\n",
        "  conn.close()\n",
        "\n",
        "conn = urllib.request.urlopen(\"https://api.thingspeak.com/channels/596974/feeds.json?results=1\")\n",
        "response = conn.read()\n",
        "print (\"http status code=%s\" % (conn.getcode()))\n",
        "data=json.loads(response)\n",
        "a=float(data['feeds'][0]['field4'])\n",
        "b=float(data['feeds'][0]['field5'])\n",
        "c=1\n",
        "conn.close()\n",
        "filename = 'model1.sav'\n",
        "loaded_model = pickle.load(open(filename, 'rb'))\n",
        "person_reports = [[a,b,c]]\n",
        "disease_predicted = loaded_model.predict(person_reports)\n",
        "print(\"ANALYSING....\")\n",
        "disease_predicted = loaded_model.predict(person_reports)\n",
        "x=int(disease_predicted[0])\n",
        "x=400-x\n",
        "print(x,\"cycles remaining\")\n",
        "y=(x*100)/400\n",
        "print(y ,\"% of lifetime remaining\")\n",
        "conn = urllib.request.urlopen(\"https://api.thingspeak.com/update?api_key=2OZI44V9T9W4G4DP&field4=\"+str(y)+\"_life_cycle\")\n",
        "\n"
      ],
      "execution_count": 5,
      "outputs": [
        {
          "output_type": "stream",
          "name": "stdout",
          "text": [
            "http status code=200\n",
            "http status code=200\n",
            "ANALYSING....\n",
            "390 cycles remaining\n",
            "97.5 % of lifetime remaining\n"
          ]
        },
        {
          "output_type": "stream",
          "name": "stderr",
          "text": [
            "/usr/local/lib/python3.8/dist-packages/sklearn/base.py:450: UserWarning: X does not have valid feature names, but KNeighborsClassifier was fitted with feature names\n",
            "  warnings.warn(\n",
            "/usr/local/lib/python3.8/dist-packages/sklearn/base.py:450: UserWarning: X does not have valid feature names, but KNeighborsClassifier was fitted with feature names\n",
            "  warnings.warn(\n"
          ]
        }
      ]
    }
  ]
}